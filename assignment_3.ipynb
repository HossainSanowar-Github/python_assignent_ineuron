{
 "cells": [
  {
   "cell_type": "markdown",
   "id": "a566e512",
   "metadata": {},
   "source": [
    "solution 1"
   ]
  },
  {
   "cell_type": "code",
   "execution_count": 1,
   "id": "4e0b0f6e",
   "metadata": {},
   "outputs": [],
   "source": [
    "def myreduce(func, values):\n",
    "    result = values[0]\n",
    "    for i in values[1:]:\n",
    "        result = func(result, i)\n",
    "    return result"
   ]
  },
  {
   "cell_type": "code",
   "execution_count": 2,
   "id": "c1fc0758",
   "metadata": {},
   "outputs": [],
   "source": [
    "def func(a, b):\n",
    "    return a * b"
   ]
  },
  {
   "cell_type": "code",
   "execution_count": 3,
   "id": "2850dd5f",
   "metadata": {},
   "outputs": [
    {
     "name": "stdout",
     "output_type": "stream",
     "text": [
      "Reduce Output function is: 81648000\n"
     ]
    }
   ],
   "source": [
    "l = [1,3,5,6,7,9,2,5,6,1,8,3,10]\n",
    "print(f\"Reduce Output function is: {myreduce(func, l)}\")"
   ]
  },
  {
   "cell_type": "markdown",
   "id": "297c94a8",
   "metadata": {},
   "source": [
    "# Solution 2"
   ]
  },
  {
   "cell_type": "markdown",
   "id": "1ad72c5b",
   "metadata": {},
   "source": [
    "Write a Python program to implement your own myfilter() function which works exactly like Python's built-in function filter()"
   ]
  },
  {
   "cell_type": "code",
   "execution_count": 4,
   "id": "3f86b496",
   "metadata": {},
   "outputs": [],
   "source": [
    "def myfilter(fun, values):\n",
    "    result = list()\n",
    "    for i in values:\n",
    "        if fun(i):\n",
    "            result.append(i)\n",
    "    return result"
   ]
  },
  {
   "cell_type": "code",
   "execution_count": 5,
   "id": "74c326ac",
   "metadata": {},
   "outputs": [],
   "source": [
    "def fun(x):\n",
    "    if x % 5 == 0:\n",
    "        return True\n",
    "    else:\n",
    "        return False"
   ]
  },
  {
   "cell_type": "code",
   "execution_count": 6,
   "id": "4a07ac16",
   "metadata": {},
   "outputs": [
    {
     "name": "stdout",
     "output_type": "stream",
     "text": [
      "My Filter Output is: [15, 60]\n"
     ]
    }
   ],
   "source": [
    "lst = [12, 15, 60, 34, 53]\n",
    "print(f\"My Filter Output is: {myfilter(fun, lst)}\")"
   ]
  },
  {
   "cell_type": "markdown",
   "id": "1ffd46a2",
   "metadata": {},
   "source": [
    "# Solution 3"
   ]
  },
  {
   "cell_type": "markdown",
   "id": "995db979",
   "metadata": {},
   "source": [
    "Implement List comprehensions to produce the following lists.\n",
    "1. ['x', 'xx', 'xxx', 'xxxx', 'y', 'yy', 'yyy', 'yyyy', 'z', 'zz', 'zzz', 'zzzz']"
   ]
  },
  {
   "cell_type": "code",
   "execution_count": 13,
   "id": "8026a2ae",
   "metadata": {},
   "outputs": [
    {
     "name": "stdout",
     "output_type": "stream",
     "text": [
      "x\n",
      "xx\n",
      "xxx\n",
      "xxxx\n",
      "y\n",
      "yy\n",
      "yyy\n",
      "yyyy\n",
      "z\n",
      "zz\n",
      "zzz\n",
      "zzzz\n"
     ]
    }
   ],
   "source": [
    "for j in l1:\n",
    "    for i in range(1,5):\n",
    "        print(i*j)"
   ]
  },
  {
   "cell_type": "code",
   "execution_count": 14,
   "id": "b0b6eac1",
   "metadata": {},
   "outputs": [],
   "source": [
    "l1=['x','y','z']\n",
    "list1=[i*j for j in l1 for i in range(1,5)]"
   ]
  },
  {
   "cell_type": "code",
   "execution_count": 15,
   "id": "418b86f0",
   "metadata": {},
   "outputs": [
    {
     "data": {
      "text/plain": [
       "['x', 'xx', 'xxx', 'xxxx', 'y', 'yy', 'yyy', 'yyyy', 'z', 'zz', 'zzz', 'zzzz']"
      ]
     },
     "execution_count": 15,
     "metadata": {},
     "output_type": "execute_result"
    }
   ],
   "source": [
    "list1"
   ]
  },
  {
   "cell_type": "markdown",
   "id": "d771eb0b",
   "metadata": {},
   "source": [
    "2. ['x', 'y', 'z', 'xx', 'yy', 'zz', 'xxx', 'yyy', 'zzz', 'xxxx', 'yyyy', 'zzzz']"
   ]
  },
  {
   "cell_type": "code",
   "execution_count": 19,
   "id": "7c2364e6",
   "metadata": {},
   "outputs": [
    {
     "name": "stdout",
     "output_type": "stream",
     "text": [
      "x\n",
      "y\n",
      "z\n",
      "xx\n",
      "yy\n",
      "zz\n",
      "xxx\n",
      "yyy\n",
      "zzz\n",
      "xxxx\n",
      "yyyy\n",
      "zzzz\n"
     ]
    }
   ],
   "source": [
    "l2=['x','y','z']\n",
    "for j in range(1,5):\n",
    "    for i in l2:\n",
    "        print(j*i)"
   ]
  },
  {
   "cell_type": "code",
   "execution_count": 22,
   "id": "bca66e68",
   "metadata": {},
   "outputs": [
    {
     "data": {
      "text/plain": [
       "['x', 'y', 'z', 'xx', 'yy', 'zz', 'xxx', 'yyy', 'zzz', 'xxxx', 'yyyy', 'zzzz']"
      ]
     },
     "execution_count": 22,
     "metadata": {},
     "output_type": "execute_result"
    }
   ],
   "source": [
    "lsit2=[i*j for j in range(1,5) for i in l2]\n",
    "lsit2"
   ]
  },
  {
   "cell_type": "markdown",
   "id": "85620a12",
   "metadata": {},
   "source": [
    "3. [[2], [3], [4], [3], [4], [5], [4], [5], [6]]"
   ]
  },
  {
   "cell_type": "code",
   "execution_count": 23,
   "id": "1c6f4b8d",
   "metadata": {},
   "outputs": [],
   "source": [
    "list3=[[x+y] for y in range(3) for x in range(2,5)]"
   ]
  },
  {
   "cell_type": "code",
   "execution_count": 24,
   "id": "a7477ed6",
   "metadata": {},
   "outputs": [
    {
     "data": {
      "text/plain": [
       "[[2], [3], [4], [3], [4], [5], [4], [5], [6]]"
      ]
     },
     "execution_count": 24,
     "metadata": {},
     "output_type": "execute_result"
    }
   ],
   "source": [
    "list3"
   ]
  },
  {
   "cell_type": "markdown",
   "id": "f8e4f491",
   "metadata": {},
   "source": [
    "4. [[2, 3, 4, 5], [3, 4, 5, 6], [4, 5, 6, 7], [5, 6, 7, 8]]"
   ]
  },
  {
   "cell_type": "code",
   "execution_count": 26,
   "id": "6cab05fe",
   "metadata": {},
   "outputs": [],
   "source": [
    "list4 = [[a+b for b in range(2, 6)] for a in range(4)]"
   ]
  },
  {
   "cell_type": "code",
   "execution_count": 27,
   "id": "f628e519",
   "metadata": {},
   "outputs": [
    {
     "data": {
      "text/plain": [
       "[[2, 3, 4, 5], [3, 4, 5, 6], [4, 5, 6, 7], [5, 6, 7, 8]]"
      ]
     },
     "execution_count": 27,
     "metadata": {},
     "output_type": "execute_result"
    }
   ],
   "source": [
    "list4"
   ]
  },
  {
   "cell_type": "markdown",
   "id": "fa90c276",
   "metadata": {},
   "source": [
    "5. [(1, 1), (2, 1), (3, 1), (1, 2), (2, 2), (3, 2), (1, 3), (2, 3), (3, 3)]"
   ]
  },
  {
   "cell_type": "code",
   "execution_count": 28,
   "id": "d69a9c25",
   "metadata": {},
   "outputs": [],
   "source": [
    "list5 = [(p, q) for q in range(1, 4) for p in range(1, 4)]"
   ]
  },
  {
   "cell_type": "code",
   "execution_count": 29,
   "id": "f9a6ed2f",
   "metadata": {},
   "outputs": [
    {
     "data": {
      "text/plain": [
       "[(1, 1), (2, 1), (3, 1), (1, 2), (2, 2), (3, 2), (1, 3), (2, 3), (3, 3)]"
      ]
     },
     "execution_count": 29,
     "metadata": {},
     "output_type": "execute_result"
    }
   ],
   "source": [
    "list5"
   ]
  },
  {
   "cell_type": "code",
   "execution_count": null,
   "id": "4acbe398",
   "metadata": {},
   "outputs": [],
   "source": []
  }
 ],
 "metadata": {
  "kernelspec": {
   "display_name": "Python 3.9 (tensorflow)",
   "language": "python",
   "name": "tensorflow"
  },
  "language_info": {
   "codemirror_mode": {
    "name": "ipython",
    "version": 3
   },
   "file_extension": ".py",
   "mimetype": "text/x-python",
   "name": "python",
   "nbconvert_exporter": "python",
   "pygments_lexer": "ipython3",
   "version": "3.9.7"
  }
 },
 "nbformat": 4,
 "nbformat_minor": 5
}
