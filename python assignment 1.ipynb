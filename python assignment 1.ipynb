{
 "cells": [
  {
   "cell_type": "markdown",
   "id": "06181641",
   "metadata": {},
   "source": [
    "Solution of Question 1:"
   ]
  },
  {
   "cell_type": "code",
   "execution_count": 9,
   "id": "8c799e39",
   "metadata": {},
   "outputs": [],
   "source": [
    "import numpy as np\n",
    "import pandas as pd\n",
    "from random import randint"
   ]
  },
  {
   "cell_type": "code",
   "execution_count": 16,
   "id": "3d6e91d3",
   "metadata": {},
   "outputs": [],
   "source": [
    "num=[]\n",
    "for _ in range(1200):\n",
    "    value=randint(2000,3200)\n",
    "    num.append(value)\n",
    "    #print(value)"
   ]
  },
  {
   "cell_type": "code",
   "execution_count": 20,
   "id": "73ea7b23",
   "metadata": {},
   "outputs": [],
   "source": [
    "result=[]\n",
    "for i in num:\n",
    "    if (i%7==0) & (i*5!=0):\n",
    "        result.append(i)"
   ]
  },
  {
   "cell_type": "code",
   "execution_count": 21,
   "id": "e7ec3fc8",
   "metadata": {},
   "outputs": [
    {
     "data": {
      "text/plain": [
       "[2443,\n",
       " 2023,\n",
       " 2618,\n",
       " 2653,\n",
       " 2450,\n",
       " 2254,\n",
       " 2898,\n",
       " 2373,\n",
       " 2723,\n",
       " 2590,\n",
       " 2765,\n",
       " 3080,\n",
       " 2821,\n",
       " 2912,\n",
       " 2604,\n",
       " 2856,\n",
       " 2625,\n",
       " 2842,\n",
       " 2618,\n",
       " 2268,\n",
       " 2898,\n",
       " 3143,\n",
       " 2968,\n",
       " 2513,\n",
       " 2947,\n",
       " 2177,\n",
       " 2373,\n",
       " 3003,\n",
       " 2506,\n",
       " 2408,\n",
       " 2877,\n",
       " 3108,\n",
       " 3143,\n",
       " 2849,\n",
       " 2751,\n",
       " 2723,\n",
       " 3017,\n",
       " 2695,\n",
       " 3171,\n",
       " 2723,\n",
       " 2604,\n",
       " 2933,\n",
       " 2373,\n",
       " 2856,\n",
       " 2576,\n",
       " 2065,\n",
       " 2842,\n",
       " 2975,\n",
       " 2506,\n",
       " 2513,\n",
       " 2961,\n",
       " 2646,\n",
       " 3059,\n",
       " 2002,\n",
       " 2030,\n",
       " 3143,\n",
       " 2954,\n",
       " 2366,\n",
       " 2037,\n",
       " 2394,\n",
       " 2800,\n",
       " 2324,\n",
       " 2254,\n",
       " 3129,\n",
       " 3101,\n",
       " 2331,\n",
       " 2408,\n",
       " 2359,\n",
       " 2926,\n",
       " 2240,\n",
       " 2716,\n",
       " 2093,\n",
       " 3059,\n",
       " 3199,\n",
       " 2457,\n",
       " 2730,\n",
       " 2352,\n",
       " 2408,\n",
       " 2492,\n",
       " 2856,\n",
       " 2688,\n",
       " 2695,\n",
       " 2828,\n",
       " 2261,\n",
       " 2303,\n",
       " 2653,\n",
       " 3115,\n",
       " 2254,\n",
       " 2961,\n",
       " 3010,\n",
       " 2100,\n",
       " 3150,\n",
       " 2240,\n",
       " 2730,\n",
       " 2065,\n",
       " 2072,\n",
       " 2093,\n",
       " 2219,\n",
       " 2989,\n",
       " 2135,\n",
       " 2534,\n",
       " 2128,\n",
       " 2877,\n",
       " 2058,\n",
       " 2282,\n",
       " 2359,\n",
       " 2037,\n",
       " 2730,\n",
       " 3143,\n",
       " 2821,\n",
       " 2044,\n",
       " 2387,\n",
       " 2226,\n",
       " 2919,\n",
       " 2191,\n",
       " 3073,\n",
       " 2205,\n",
       " 2569,\n",
       " 2163,\n",
       " 2821,\n",
       " 2926,\n",
       " 2107,\n",
       " 2646,\n",
       " 2394,\n",
       " 2058,\n",
       " 2086,\n",
       " 2282,\n",
       " 2548,\n",
       " 2100,\n",
       " 2044,\n",
       " 2478,\n",
       " 2352,\n",
       " 2219,\n",
       " 2681,\n",
       " 2268,\n",
       " 2471,\n",
       " 2303,\n",
       " 2247,\n",
       " 2751,\n",
       " 2513,\n",
       " 2828,\n",
       " 2646,\n",
       " 2933,\n",
       " 2492,\n",
       " 2289,\n",
       " 2646,\n",
       " 2177,\n",
       " 2632,\n",
       " 2765,\n",
       " 2394,\n",
       " 2128,\n",
       " 2996,\n",
       " 3192,\n",
       " 2268,\n",
       " 2996,\n",
       " 2954,\n",
       " 2548,\n",
       " 2198,\n",
       " 3038,\n",
       " 2058,\n",
       " 2058,\n",
       " 2191,\n",
       " 2254,\n",
       " 2394,\n",
       " 2198,\n",
       " 2758,\n",
       " 3178,\n",
       " 2744,\n",
       " 3087,\n",
       " 2128,\n",
       " 2443,\n",
       " 2506,\n",
       " 3129,\n",
       " 2191,\n",
       " 2149,\n",
       " 3045,\n",
       " 2842,\n",
       " 2765,\n",
       " 3185,\n",
       " 2639,\n",
       " 2506,\n",
       " 3087,\n",
       " 2723,\n",
       " 2786,\n",
       " 2891]"
      ]
     },
     "execution_count": 21,
     "metadata": {},
     "output_type": "execute_result"
    }
   ],
   "source": [
    "result"
   ]
  },
  {
   "cell_type": "markdown",
   "id": "e64c70a9",
   "metadata": {},
   "source": [
    "Solution of Question 2:"
   ]
  },
  {
   "cell_type": "code",
   "execution_count": 38,
   "id": "87c19426",
   "metadata": {},
   "outputs": [
    {
     "name": "stdout",
     "output_type": "stream",
     "text": [
      "Please enter your first_name: sanowar\n",
      "Please enter your last_name: hossain\n",
      "hellow, hossain sanowar\n"
     ]
    }
   ],
   "source": [
    "first_name=input('Please enter your first_name: ')\n",
    "last_name=input('Please enter your last_name: ')\n",
    "print('hellow: '+last_name+\" \"+first_name)"
   ]
  },
  {
   "cell_type": "markdown",
   "id": "862d5f06",
   "metadata": {},
   "source": [
    "Solution of Question 3:"
   ]
  },
  {
   "cell_type": "code",
   "execution_count": 39,
   "id": "55d27a75",
   "metadata": {},
   "outputs": [],
   "source": [
    "import math"
   ]
  },
  {
   "cell_type": "code",
   "execution_count": 51,
   "id": "1d4797ec",
   "metadata": {},
   "outputs": [],
   "source": [
    "r=12\n",
    "# pi = 3.1415926535897931\n",
    "# v=4/3*pi*r**3\n",
    "# v"
   ]
  },
  {
   "cell_type": "code",
   "execution_count": 52,
   "id": "c181e0f7",
   "metadata": {},
   "outputs": [],
   "source": [
    "from math import pi"
   ]
  },
  {
   "cell_type": "code",
   "execution_count": 53,
   "id": "096a7058",
   "metadata": {},
   "outputs": [],
   "source": [
    "pi\n",
    "v=4/3*pi*r**3"
   ]
  },
  {
   "cell_type": "code",
   "execution_count": 54,
   "id": "da9ed503",
   "metadata": {},
   "outputs": [
    {
     "data": {
      "text/plain": [
       "7238.229473870882"
      ]
     },
     "execution_count": 54,
     "metadata": {},
     "output_type": "execute_result"
    }
   ],
   "source": [
    "v"
   ]
  },
  {
   "cell_type": "code",
   "execution_count": 55,
   "id": "2dd2b1b8",
   "metadata": {},
   "outputs": [
    {
     "data": {
      "text/plain": [
       "3.141592653589793"
      ]
     },
     "execution_count": 55,
     "metadata": {},
     "output_type": "execute_result"
    }
   ],
   "source": [
    "pi"
   ]
  },
  {
   "cell_type": "code",
   "execution_count": null,
   "id": "3be7298d",
   "metadata": {},
   "outputs": [],
   "source": []
  }
 ],
 "metadata": {
  "kernelspec": {
   "display_name": "Python 3.9 (tensorflow)",
   "language": "python",
   "name": "tensorflow"
  },
  "language_info": {
   "codemirror_mode": {
    "name": "ipython",
    "version": 3
   },
   "file_extension": ".py",
   "mimetype": "text/x-python",
   "name": "python",
   "nbconvert_exporter": "python",
   "pygments_lexer": "ipython3",
   "version": "3.9.7"
  }
 },
 "nbformat": 4,
 "nbformat_minor": 5
}
